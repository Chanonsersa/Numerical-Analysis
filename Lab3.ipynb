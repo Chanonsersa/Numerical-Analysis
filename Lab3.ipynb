{
  "nbformat": 4,
  "nbformat_minor": 0,
  "metadata": {
    "colab": {
      "name": "Lab3.ipynb",
      "version": "0.3.2",
      "provenance": [],
      "include_colab_link": true
    },
    "kernelspec": {
      "display_name": "Python [Root]",
      "language": "python",
      "name": "Python [Root]"
    }
  },
  "cells": [
    {
      "cell_type": "markdown",
      "metadata": {
        "id": "view-in-github",
        "colab_type": "text"
      },
      "source": [
        "<a href=\"https://colab.research.google.com/github/Chanonsersa/Numerical-Analysis/blob/master/Lab3.ipynb\" target=\"_parent\"><img src=\"https://colab.research.google.com/assets/colab-badge.svg\" alt=\"Open In Colab\"/></a>"
      ]
    },
    {
      "metadata": {
        "id": "0yQQ9X60w6k-",
        "colab_type": "text"
      },
      "cell_type": "markdown",
      "source": [
        "# Lab 2: Linear regression (10 pts.)"
      ]
    },
    {
      "metadata": {
        "id": "HCZBqjv_w6lA",
        "colab_type": "text"
      },
      "cell_type": "markdown",
      "source": [
        "## Part I"
      ]
    },
    {
      "metadata": {
        "id": "VFjuWCjaw6lB",
        "colab_type": "text"
      },
      "cell_type": "markdown",
      "source": [
        "โหลดข้อมูล test_stat1_XX.csv จาก ATutor ลงบน notebook โดย XX = mod( รหัสนิสิต 2 ตัวสุดท้าย, 60) + 1 <br\\><br\\> ใช้คำสั่ง x, y = np.loadtxt(\"test_stat1_XX.csv\") ในการโหลดข้อมูลมาใส่ตัวแปร x (independent variables) และ y (dependent variables)\n",
        "\n"
      ]
    },
    {
      "metadata": {
        "id": "R6GZY3kuw6lC",
        "colab_type": "text"
      },
      "cell_type": "markdown",
      "source": [
        "**Q1** Plot รูปความสัมพันธ์ของข้อมูล x และ y ที่ได้จาก  test_stat1_XX.csv จากรูปคุณคิดว่าเราควรย่อย (regress) ความสัมพันธ์ของข้อมูลชุดนี้ด้วยสมการเส้นตรงหรือไม่ เพราะอะไร "
      ]
    },
    {
      "metadata": {
        "id": "JvpIgM0ew6lD",
        "colab_type": "text"
      },
      "cell_type": "markdown",
      "source": [
        "**Answer**: (ให้ plot รูปความสัมพันธ์ของข้อมูลประกอบคำอธิบายด้วย))"
      ]
    },
    {
      "metadata": {
        "id": "3gbmmJ1Zw6lE",
        "colab_type": "text"
      },
      "cell_type": "markdown",
      "source": [
        "**Q2** จากข้อมูลที่ได้จาก test_stat1_XX.csv สมมุติว่าเราทำการย่อยข้อมูลด้วยสมการเส้นตรง จงคำนวณหาค่าต่อไปนี้ \n",
        "1. ความชัน, \n",
        "2. จุดตัดแกน y\n",
        "3. $S_r$\n",
        "4. $r^2$\n",
        "\n",
        "**Hint**: ให้เขียนโปรแกรมแสดงการคำนวณให้ชัดเจน สามารถตรวจคำตอบได้โดยใช้ stats.linregress"
      ]
    },
    {
      "metadata": {
        "id": "UWDBQ8i0w6lF",
        "colab_type": "code",
        "colab": {}
      },
      "cell_type": "code",
      "source": [
        ""
      ],
      "execution_count": 0,
      "outputs": []
    },
    {
      "metadata": {
        "id": "UGi5sIDsw6lI",
        "colab_type": "text"
      },
      "cell_type": "markdown",
      "source": [
        "**Q3** จากข้อมูลของ $r^2$ ที่คำนวณได้ในข้อ **Q2** ให้เหตุผลว่าการใช้สมการเส้นตรงในข้อ Q2 ในการย่อยข้อมูลนั้นมีประสิทธิภาพหรือไม่ เพราะเหตุใด________"
      ]
    },
    {
      "metadata": {
        "id": "bcnuowlHw6lK",
        "colab_type": "code",
        "colab": {}
      },
      "cell_type": "code",
      "source": [
        ""
      ],
      "execution_count": 0,
      "outputs": []
    },
    {
      "metadata": {
        "id": "-z-Zf1rDw6lO",
        "colab_type": "text"
      },
      "cell_type": "markdown",
      "source": [
        "**Q4** plot สมการเส้นตรงที่คำนวณได้จาก **Q2** ลงไปพร้อมกับข้อมูลที่ได้จาก test_stat1_XX.csv จากรูปที่ได้ จงให้เหตุผลว่าการกระจายตัวของข้อมูลมีความสัมพันธ์กับค่า $r^2$ ที่คำนวณได้ในข้อ Q2) อย่างไร"
      ]
    },
    {
      "metadata": {
        "id": "CJedqldzw6lP",
        "colab_type": "text"
      },
      "cell_type": "markdown",
      "source": [
        "**Answer**: (ให้ plot รูปความสัมพันธ์ของข้อมูลประกอบคำอธิบายด้วย))"
      ]
    },
    {
      "metadata": {
        "id": "fMIiMh-3w6lP",
        "colab_type": "text"
      },
      "cell_type": "markdown",
      "source": [
        "## Part II"
      ]
    },
    {
      "metadata": {
        "id": "61fXhbIxw6lQ",
        "colab_type": "text"
      },
      "cell_type": "markdown",
      "source": [
        "โหลดข้อมูล test_stat2_XX.csv จาก ATutor ลงบน notebook โดย XX = mod( รหัสนิสิต 2 ตัวสุดท้าย, 60) + 1 <br\\><br\\> ใช้คำสั่ง x, y = np.loadtxt(\"test_stat2_XX.csv\") ในการโหลดข้อมูลมาใส่ตัวแปร x (independent variables) และ y (dependent variables)"
      ]
    },
    {
      "metadata": {
        "id": "CqN02t9Zw6lS",
        "colab_type": "text"
      },
      "cell_type": "markdown",
      "source": [
        "**Q5** Plot รูปความสัมพันธ์ของข้อมูล x และ y ที่ได้จาก  test_stat2_XX.csv จากรูปคุณคิดว่าเราควรย่อย (regress) ความสัมพันธ์ของข้อมูลชุดนี้ด้วยสมการอะไร เพราะอะไร <br \\> **Hint:** ให้เลือกจากสมการ exponential, power และ saturation-growth"
      ]
    },
    {
      "metadata": {
        "id": "GWRhVDt5w6lS",
        "colab_type": "code",
        "colab": {}
      },
      "cell_type": "code",
      "source": [
        ""
      ],
      "execution_count": 0,
      "outputs": []
    },
    {
      "metadata": {
        "id": "a4_5-w_Zw6lU",
        "colab_type": "text"
      },
      "cell_type": "markdown",
      "source": [
        "**Q6** ย่อยข้อมูล x และ y ด้วยสมการที่เลือกจากข้อ Q5 แสดงการคำนวณให้ชัดเจนพร้อมทั้ง ระบุ ค่าต่างๆ ($\\alpha$, $\\beta$, $S_r$, $r^2$) ให้ชัดเจน<br\\>**Hint**: สามารถใช้ stats.linregress ในการคำนวณได้"
      ]
    },
    {
      "metadata": {
        "id": "b86dN9edw6lV",
        "colab_type": "code",
        "colab": {}
      },
      "cell_type": "code",
      "source": [
        ""
      ],
      "execution_count": 0,
      "outputs": []
    },
    {
      "metadata": {
        "id": "c5DlSl73w6la",
        "colab_type": "text"
      },
      "cell_type": "markdown",
      "source": [
        "**Q7** จากข้อมูลของ $r^2$ ที่คำนวณได้ในข้อ Q6 ให้เหตุผลว่าการใช้สมการที่เลือกในข้อ Q5 ในการย่อยข้อมูลนั้นมีประสิทธิภาพหรือไม่ เพราะเหตุใด"
      ]
    },
    {
      "metadata": {
        "id": "ZrU3c-yww6lb",
        "colab_type": "code",
        "colab": {}
      },
      "cell_type": "code",
      "source": [
        ""
      ],
      "execution_count": 0,
      "outputs": []
    },
    {
      "metadata": {
        "id": "fKrhLQXfw6ld",
        "colab_type": "text"
      },
      "cell_type": "markdown",
      "source": [
        "**Q8** plot สมการที่คำนวณได้จาก **Q5** ลงไปพร้อมกับข้อมูลที่ได้จาก test_stat2_XX.csv จากรูปที่ได้ จงให้เหตุผลว่าการกระจายตัวของข้อมูลมีความสัมพันธ์กับค่า $r^2$ ที่คำนวณได้ในข้อ Q5 อย่างไร การย่อยข้อมูลด้วยสมการที่เลือกจากข้อ Q5 มี bias หรือไม่ อย่างใด"
      ]
    },
    {
      "metadata": {
        "id": "H541vNkkw6lf",
        "colab_type": "code",
        "colab": {}
      },
      "cell_type": "code",
      "source": [
        ""
      ],
      "execution_count": 0,
      "outputs": []
    },
    {
      "metadata": {
        "id": "v05cU2D_w6li",
        "colab_type": "text"
      },
      "cell_type": "markdown",
      "source": [
        "**Q9** ทำข้อ Q6)-Q8) อีกครั้งด้วยสมการเส้นตรง เปรียบเทียบผลลัพธ์ที่ได้กับการใช้สมการที่เลือกในข้อ Q5 ในการย่อยข้อมูล (เปรียบเทียบค่า $r^2$, bias จากการใช้สมการเส้นตรงในการย่อย)"
      ]
    },
    {
      "metadata": {
        "id": "u68MKNj2w6li",
        "colab_type": "code",
        "colab": {}
      },
      "cell_type": "code",
      "source": [
        ""
      ],
      "execution_count": 0,
      "outputs": []
    }
  ]
}