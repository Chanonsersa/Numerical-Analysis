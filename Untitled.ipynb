{
 "cells": [
  {
   "cell_type": "code",
   "execution_count": 31,
   "metadata": {},
   "outputs": [],
   "source": [
    "# Import modules\n",
    "import traceback\n",
    "import math\n",
    "import pandas as pd\n",
    "import numpy as np\n",
    "import scipy\n",
    "import scipy.linalg as LA\n",
    "import matplotlib.pyplot as plt"
   ]
  },
  {
   "cell_type": "code",
   "execution_count": 117,
   "metadata": {},
   "outputs": [],
   "source": [
    "xi = []\n",
    "ei = []\n",
    "ratio = []"
   ]
  },
  {
   "cell_type": "code",
   "execution_count": 118,
   "metadata": {},
   "outputs": [],
   "source": [
    "def newton_method( f, df, x0, k = 500, tol = 1e-6) :\n",
    "    \"\"\"\n",
    "    Use Newton's method to find the root of the function\n",
    "    \n",
    "    Args:\n",
    "        f (function prototype) : function handle\n",
    "        df (function prototype) : derivative function handle\n",
    "        x0 (real number) : starting guess \n",
    "        k (integer) : number of iteration steps (default : 500)\n",
    "        tol (real number) : tolerance (default : 1e-6)\n",
    "        \n",
    "    Return:\n",
    "        Approximate solution xc\n",
    "        \n",
    "    Raises:\n",
    "        ValueError :\n",
    "            - f or df is None\n",
    "            - k is smaller than 0\n",
    "    \"\"\"\n",
    "    try:\n",
    "        if f is None or df is None :\n",
    "            raise ValueError('Function handle f or df is Null')\n",
    "        \n",
    "        if k <= 0 :\n",
    "            raise ValueError('Iteration k must be larger than 0')\n",
    "        \n",
    "        xc = x0\n",
    "        i = 0\n",
    "        for _ in range(k) :\n",
    "            xt = xc - f(xc) / df(xc)\n",
    "            if i == 0:\n",
    "                    #do nothing\n",
    "                    xi.append(x0)\n",
    "                    ec = abs(x0 - 3)\n",
    "                    ei.append(ec)\n",
    "                    ratio.append(0)\n",
    "            if tol > 0 and abs(xt - xc) / abs(xc) < tol :\n",
    "                return xt\n",
    "            else :\n",
    "                xc = xt\n",
    "                xi.append(xc)\n",
    "                ec = abs(xc - 3)\n",
    "                ei.append(ec)\n",
    "                if i != 0:\n",
    "                    previous = ei[i - 1]\n",
    "                    ratio.append(ec / math.pow(previous, 2))\n",
    "                i += 1\n",
    "        return xc\n",
    "    except ValueError as e :\n",
    "        print('ValueError Exception : ', e)\n",
    "        traceback.print_exception()"
   ]
  },
  {
   "cell_type": "code",
   "execution_count": 119,
   "metadata": {},
   "outputs": [],
   "source": [
    "f = lambda x : (x - 2) * math.pow(x - 3, 3)\n",
    "df = lambda x : math.pow(x - 3, 3) + (3 * math.pow(x - 3, 2) * (x - 2))\n",
    "xc = newton_method(f, df, 3.75, 25, 1e-8)"
   ]
  },
  {
   "cell_type": "code",
   "execution_count": 120,
   "metadata": {},
   "outputs": [
    {
     "data": {
      "text/plain": [
       "[3.75,\n",
       " 3.53125,\n",
       " 3.3725228658536586,\n",
       " 3.258650764226435,\n",
       " 3.1779610464352057,\n",
       " 3.1214847586403613,\n",
       " 3.0824010845222887,\n",
       " 3.0556138106614177,\n",
       " 3.0373958053899144,\n",
       " 3.0250785402403166,\n",
       " 3.0167866471977964,\n",
       " 3.011221722852701,\n",
       " 3.007494934199732,\n",
       " 3.0050028026033777,\n",
       " 3.0033379642014775,\n",
       " 3.002226541982753,\n",
       " 3.0014849105235415,\n",
       " 3.000990184860398,\n",
       " 3.0006602320372995,\n",
       " 3.0004402030829715,\n",
       " 3.000293490240324,\n",
       " 3.000195669727197,\n",
       " 3.00013045073776,\n",
       " 3.0000869690489993,\n",
       " 3.0000579802063037,\n",
       " 3.000038653844363]"
      ]
     },
     "execution_count": 120,
     "metadata": {},
     "output_type": "execute_result"
    }
   ],
   "source": [
    "xi"
   ]
  },
  {
   "cell_type": "code",
   "execution_count": 121,
   "metadata": {},
   "outputs": [
    {
     "data": {
      "text/plain": [
       "[0.75,\n",
       " 0.53125,\n",
       " 0.37252286585365857,\n",
       " 0.25865076422643485,\n",
       " 0.17796104643520572,\n",
       " 0.12148475864036135,\n",
       " 0.08240108452228867,\n",
       " 0.055613810661417684,\n",
       " 0.03739580538991438,\n",
       " 0.025078540240316638,\n",
       " 0.016786647197796434,\n",
       " 0.011221722852701177,\n",
       " 0.007494934199732128,\n",
       " 0.0050028026033777095,\n",
       " 0.0033379642014774724,\n",
       " 0.002226541982753183,\n",
       " 0.0014849105235414939,\n",
       " 0.0009901848603979246,\n",
       " 0.0006602320372994797,\n",
       " 0.0004402030829715464,\n",
       " 0.0002934902403239903,\n",
       " 0.00019566972719697873,\n",
       " 0.0001304507377599684,\n",
       " 8.696904899929692e-05,\n",
       " 5.798020630365386e-05,\n",
       " 3.865384436307906e-05]"
      ]
     },
     "execution_count": 121,
     "metadata": {},
     "output_type": "execute_result"
    }
   ],
   "source": [
    "ei"
   ]
  },
  {
   "cell_type": "code",
   "execution_count": 122,
   "metadata": {},
   "outputs": [
    {
     "data": {
      "text/plain": [
       "[0,\n",
       " 0.6622628726287263,\n",
       " 0.9164649915843228,\n",
       " 1.282386921131966,\n",
       " 1.8159097619104012,\n",
       " 2.6018546178738653,\n",
       " 3.768244410299663,\n",
       " 5.507532081580287,\n",
       " 8.108433247336299,\n",
       " 12.003784248862994,\n",
       " 17.842472299299114,\n",
       " 26.597443704236696,\n",
       " 39.72777934380459,\n",
       " 59.42183046123964,\n",
       " 88.96192136724139,\n",
       " 133.27139255123137,\n",
       " 199.73515226330386,\n",
       " 299.43049216422395,\n",
       " 448.9733015099799,\n",
       " 673.2873815337025,\n",
       " 1009.7584120951168,\n",
       " 1514.4648982215692,\n",
       " 2271.52458756345,\n",
       " 3407.114094993558,\n",
       " 5110.498338480313]"
      ]
     },
     "execution_count": 122,
     "metadata": {},
     "output_type": "execute_result"
    }
   ],
   "source": [
    "ratio"
   ]
  },
  {
   "cell_type": "markdown",
   "metadata": {},
   "source": [
    "Q1 จงใช้ python ทดสอบว่า Newton method converge แบบใดที่จุด r=2 หรือ e=3 ของสมการ f1(x), f2(x) และ f3(x) "
   ]
  },
  {
   "cell_type": "code",
   "execution_count": null,
   "metadata": {},
   "outputs": [],
   "source": []
  }
 ],
 "metadata": {
  "kernelspec": {
   "display_name": "Python 3",
   "language": "python",
   "name": "python3"
  },
  "language_info": {
   "codemirror_mode": {
    "name": "ipython",
    "version": 3
   },
   "file_extension": ".py",
   "mimetype": "text/x-python",
   "name": "python",
   "nbconvert_exporter": "python",
   "pygments_lexer": "ipython3",
   "version": "3.7.1"
  }
 },
 "nbformat": 4,
 "nbformat_minor": 2
}
