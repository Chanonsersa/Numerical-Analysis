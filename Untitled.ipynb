{
  "nbformat": 4,
  "nbformat_minor": 0,
  "metadata": {
    "colab": {
      "name": "Untitled.ipynb",
      "version": "0.3.2",
      "provenance": []
    },
    "kernelspec": {
      "display_name": "Python 3",
      "language": "python",
      "name": "python3"
    }
  },
  "cells": [
    {
      "metadata": {
        "id": "JxNMbzKGlLzR",
        "colab_type": "code",
        "colab": {}
      },
      "cell_type": "code",
      "source": [
        "# Import modules\n",
        "import traceback\n",
        "import math\n",
        "import pandas as pd\n",
        "import numpy as np\n",
        "import scipy\n",
        "import scipy.linalg as LA\n",
        "import matplotlib.pyplot as plt"
      ],
      "execution_count": 0,
      "outputs": []
    },
    {
      "metadata": {
        "id": "Fz0teMo8lLzY",
        "colab_type": "code",
        "colab": {}
      },
      "cell_type": "code",
      "source": [
        "xi = []\n",
        "ei = []\n",
        "ratio = []"
      ],
      "execution_count": 0,
      "outputs": []
    },
    {
      "metadata": {
        "id": "lHqez2GDlLzd",
        "colab_type": "code",
        "colab": {}
      },
      "cell_type": "code",
      "source": [
        "def newton_method( f, df, x0, k = 500, tol = 1e-6) :\n",
        "    \"\"\"\n",
        "    Use Newton's method to find the root of the function\n",
        "    \n",
        "    Args:\n",
        "        f (function prototype) : function handle\n",
        "        df (function prototype) : derivative function handle\n",
        "        x0 (real number) : starting guess \n",
        "        k (integer) : number of iteration steps (default : 500)\n",
        "        tol (real number) : tolerance (default : 1e-6)\n",
        "        \n",
        "    Return:\n",
        "        Approximate solution xc\n",
        "        \n",
        "    Raises:\n",
        "        ValueError :\n",
        "            - f or df is None\n",
        "            - k is smaller than 0\n",
        "    \"\"\"\n",
        "    try:\n",
        "        if f is None or df is None :\n",
        "            raise ValueError('Function handle f or df is Null')\n",
        "        \n",
        "        if k <= 0 :\n",
        "            raise ValueError('Iteration k must be larger than 0')\n",
        "        \n",
        "        xc = x0\n",
        "        i = 0\n",
        "        for _ in range(k) :\n",
        "            xt = xc - f(xc) / df(xc)\n",
        "            if i == 0:\n",
        "                    #do nothing\n",
        "                    xi.append(x0)\n",
        "                    ec = abs(x0 - 3)\n",
        "                    ei.append(ec)\n",
        "                    ratio.append(np.nan)\n",
        "            if tol > 0 and abs(xt - xc) / abs(xc) < tol :\n",
        "                return xt\n",
        "            else :\n",
        "                xc = xt\n",
        "                xi.append(xc)\n",
        "                ec = abs(xc - 3)\n",
        "                ei.append(ec)\n",
        "                if i != 0:\n",
        "                    previous = ei[i - 1]\n",
        "                    ratio.append(ec / math.pow(previous, 2))\n",
        "                i += 1\n",
        "        return xc\n",
        "    except ValueError as e :\n",
        "        print('ValueError Exception : ', e)\n",
        "        traceback.print_exception()"
      ],
      "execution_count": 0,
      "outputs": []
    },
    {
      "metadata": {
        "id": "pi2shPrXlLzh",
        "colab_type": "code",
        "colab": {}
      },
      "cell_type": "code",
      "source": [
        "f = lambda x : (x - 2) * math.pow(x - 3, 3)\n",
        "df = lambda x : math.pow(x - 3, 3) + (3 * math.pow(x - 3, 2) * (x - 2))\n",
        "xc = newton_method(f, df, 3.5, 25, 1e-8)"
      ],
      "execution_count": 0,
      "outputs": []
    },
    {
      "metadata": {
        "id": "d_p_IB63lLzk",
        "colab_type": "code",
        "colab": {
          "base_uri": "https://localhost:8080/",
          "height": 855
        },
        "outputId": "16c127e5-12f3-47cc-8a26-ad6fe092c7d3"
      },
      "cell_type": "code",
      "source": [
        "data = [xi, ei, ratio]\n",
        "df = pd.DataFrame(data)\n",
        "df_t = df.transpose()\n",
        "df_t.columns = ['Xi','Ei','Ratio']\n",
        "df_t"
      ],
      "execution_count": 85,
      "outputs": [
        {
          "output_type": "execute_result",
          "data": {
            "text/html": [
              "<div>\n",
              "<style scoped>\n",
              "    .dataframe tbody tr th:only-of-type {\n",
              "        vertical-align: middle;\n",
              "    }\n",
              "\n",
              "    .dataframe tbody tr th {\n",
              "        vertical-align: top;\n",
              "    }\n",
              "\n",
              "    .dataframe thead th {\n",
              "        text-align: right;\n",
              "    }\n",
              "</style>\n",
              "<table border=\"1\" class=\"dataframe\">\n",
              "  <thead>\n",
              "    <tr style=\"text-align: right;\">\n",
              "      <th></th>\n",
              "      <th>Xi</th>\n",
              "      <th>Ei</th>\n",
              "      <th>Ratio</th>\n",
              "    </tr>\n",
              "  </thead>\n",
              "  <tbody>\n",
              "    <tr>\n",
              "      <th>0</th>\n",
              "      <td>3.500000</td>\n",
              "      <td>0.500000</td>\n",
              "      <td>NaN</td>\n",
              "    </tr>\n",
              "    <tr>\n",
              "      <th>1</th>\n",
              "      <td>3.350000</td>\n",
              "      <td>0.350000</td>\n",
              "      <td>0.970455</td>\n",
              "    </tr>\n",
              "    <tr>\n",
              "      <th>2</th>\n",
              "      <td>3.242614</td>\n",
              "      <td>0.242614</td>\n",
              "      <td>1.360686</td>\n",
              "    </tr>\n",
              "    <tr>\n",
              "      <th>3</th>\n",
              "      <td>3.166684</td>\n",
              "      <td>0.166684</td>\n",
              "      <td>1.930781</td>\n",
              "    </tr>\n",
              "    <tr>\n",
              "      <th>4</th>\n",
              "      <td>3.113648</td>\n",
              "      <td>0.113648</td>\n",
              "      <td>2.771850</td>\n",
              "    </tr>\n",
              "    <tr>\n",
              "      <th>5</th>\n",
              "      <td>3.077012</td>\n",
              "      <td>0.077012</td>\n",
              "      <td>4.021292</td>\n",
              "    </tr>\n",
              "    <tr>\n",
              "      <th>6</th>\n",
              "      <td>3.051939</td>\n",
              "      <td>0.051939</td>\n",
              "      <td>5.885558</td>\n",
              "    </tr>\n",
              "    <tr>\n",
              "      <th>7</th>\n",
              "      <td>3.034906</td>\n",
              "      <td>0.034906</td>\n",
              "      <td>8.674299</td>\n",
              "    </tr>\n",
              "    <tr>\n",
              "      <th>8</th>\n",
              "      <td>3.023400</td>\n",
              "      <td>0.023400</td>\n",
              "      <td>12.851725</td>\n",
              "    </tr>\n",
              "    <tr>\n",
              "      <th>9</th>\n",
              "      <td>3.015659</td>\n",
              "      <td>0.015659</td>\n",
              "      <td>19.113773</td>\n",
              "    </tr>\n",
              "    <tr>\n",
              "      <th>10</th>\n",
              "      <td>3.010466</td>\n",
              "      <td>0.010466</td>\n",
              "      <td>28.503970</td>\n",
              "    </tr>\n",
              "    <tr>\n",
              "      <th>11</th>\n",
              "      <td>3.006989</td>\n",
              "      <td>0.006989</td>\n",
              "      <td>42.587276</td>\n",
              "    </tr>\n",
              "    <tr>\n",
              "      <th>12</th>\n",
              "      <td>3.004665</td>\n",
              "      <td>0.004665</td>\n",
              "      <td>63.710876</td>\n",
              "    </tr>\n",
              "    <tr>\n",
              "      <th>13</th>\n",
              "      <td>3.003112</td>\n",
              "      <td>0.003112</td>\n",
              "      <td>95.395355</td>\n",
              "    </tr>\n",
              "    <tr>\n",
              "      <th>14</th>\n",
              "      <td>3.002076</td>\n",
              "      <td>0.002076</td>\n",
              "      <td>142.921453</td>\n",
              "    </tr>\n",
              "    <tr>\n",
              "      <th>15</th>\n",
              "      <td>3.001384</td>\n",
              "      <td>0.001384</td>\n",
              "      <td>214.210182</td>\n",
              "    </tr>\n",
              "    <tr>\n",
              "      <th>16</th>\n",
              "      <td>3.000923</td>\n",
              "      <td>0.000923</td>\n",
              "      <td>321.142996</td>\n",
              "    </tr>\n",
              "    <tr>\n",
              "      <th>17</th>\n",
              "      <td>3.000616</td>\n",
              "      <td>0.000616</td>\n",
              "      <td>481.542030</td>\n",
              "    </tr>\n",
              "    <tr>\n",
              "      <th>18</th>\n",
              "      <td>3.000410</td>\n",
              "      <td>0.000410</td>\n",
              "      <td>722.140457</td>\n",
              "    </tr>\n",
              "    <tr>\n",
              "      <th>19</th>\n",
              "      <td>3.000274</td>\n",
              "      <td>0.000274</td>\n",
              "      <td>1083.038013</td>\n",
              "    </tr>\n",
              "    <tr>\n",
              "      <th>20</th>\n",
              "      <td>3.000182</td>\n",
              "      <td>0.000182</td>\n",
              "      <td>1624.384291</td>\n",
              "    </tr>\n",
              "    <tr>\n",
              "      <th>21</th>\n",
              "      <td>3.000122</td>\n",
              "      <td>0.000122</td>\n",
              "      <td>2436.403671</td>\n",
              "    </tr>\n",
              "    <tr>\n",
              "      <th>22</th>\n",
              "      <td>3.000081</td>\n",
              "      <td>0.000081</td>\n",
              "      <td>3654.432717</td>\n",
              "    </tr>\n",
              "    <tr>\n",
              "      <th>23</th>\n",
              "      <td>3.000054</td>\n",
              "      <td>0.000054</td>\n",
              "      <td>5481.476270</td>\n",
              "    </tr>\n",
              "    <tr>\n",
              "      <th>24</th>\n",
              "      <td>3.000036</td>\n",
              "      <td>0.000036</td>\n",
              "      <td>8222.041587</td>\n",
              "    </tr>\n",
              "    <tr>\n",
              "      <th>25</th>\n",
              "      <td>3.000024</td>\n",
              "      <td>0.000024</td>\n",
              "      <td>NaN</td>\n",
              "    </tr>\n",
              "  </tbody>\n",
              "</table>\n",
              "</div>"
            ],
            "text/plain": [
              "          Xi        Ei        Ratio\n",
              "0   3.500000  0.500000          NaN\n",
              "1   3.350000  0.350000     0.970455\n",
              "2   3.242614  0.242614     1.360686\n",
              "3   3.166684  0.166684     1.930781\n",
              "4   3.113648  0.113648     2.771850\n",
              "5   3.077012  0.077012     4.021292\n",
              "6   3.051939  0.051939     5.885558\n",
              "7   3.034906  0.034906     8.674299\n",
              "8   3.023400  0.023400    12.851725\n",
              "9   3.015659  0.015659    19.113773\n",
              "10  3.010466  0.010466    28.503970\n",
              "11  3.006989  0.006989    42.587276\n",
              "12  3.004665  0.004665    63.710876\n",
              "13  3.003112  0.003112    95.395355\n",
              "14  3.002076  0.002076   142.921453\n",
              "15  3.001384  0.001384   214.210182\n",
              "16  3.000923  0.000923   321.142996\n",
              "17  3.000616  0.000616   481.542030\n",
              "18  3.000410  0.000410   722.140457\n",
              "19  3.000274  0.000274  1083.038013\n",
              "20  3.000182  0.000182  1624.384291\n",
              "21  3.000122  0.000122  2436.403671\n",
              "22  3.000081  0.000081  3654.432717\n",
              "23  3.000054  0.000054  5481.476270\n",
              "24  3.000036  0.000036  8222.041587\n",
              "25  3.000024  0.000024          NaN"
            ]
          },
          "metadata": {
            "tags": []
          },
          "execution_count": 85
        }
      ]
    },
    {
      "metadata": {
        "id": "PprR5F4qlLz4",
        "colab_type": "text"
      },
      "cell_type": "markdown",
      "source": [
        "**Q1 จงใช้ python ทดสอบว่า Newton method converge แบบใดที่จุด r=2 หรือ e=3 ของสมการ f1(x), f2(x) และ f3(x) **"
      ]
    },
    {
      "metadata": {
        "id": "kF4MekvLo5Ep",
        "colab_type": "text"
      },
      "cell_type": "markdown",
      "source": [
        "เป็นแบบ Linear convergence"
      ]
    },
    {
      "metadata": {
        "id": "NTf_G-e-pgTN",
        "colab_type": "text"
      },
      "cell_type": "markdown",
      "source": [
        "**Q2 ผลลัพธ์ที่ได้จากข้อ Q1 เป็นไปตามที่เราคำนวณตาม slide หน้า 19 หรือไม่ เพราะเหตุใด**"
      ]
    },
    {
      "metadata": {
        "id": "O0lNxd6Fpoht",
        "colab_type": "text"
      },
      "cell_type": "markdown",
      "source": [
        ""
      ]
    },
    {
      "metadata": {
        "id": "74c2uFaTpltP",
        "colab_type": "text"
      },
      "cell_type": "markdown",
      "source": [
        "**Q3 จากข้อ Q1, x0 ที่คุณเลือกมีค่าเท่ากับ? เพราะเหตุใดถึงเลือก x0 เท่านี้?**"
      ]
    },
    {
      "metadata": {
        "id": "e3f6GwGwppDH",
        "colab_type": "text"
      },
      "cell_type": "markdown",
      "source": [
        "x0 = 3.5 เพราะต้องการจะตรวจสอบว่าถ้าค่า x0 ใกล้ ๆ root Newton-method จะทำการค้นหาแบบใด"
      ]
    }
  ]
}