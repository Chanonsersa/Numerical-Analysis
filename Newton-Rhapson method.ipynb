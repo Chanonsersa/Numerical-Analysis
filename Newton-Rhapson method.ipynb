{
  "nbformat": 4,
  "nbformat_minor": 0,
  "metadata": {
    "colab": {
      "name": "Untitled.ipynb",
      "version": "0.3.2",
      "provenance": []
    },
    "kernelspec": {
      "display_name": "Python 3",
      "language": "python",
      "name": "python3"
    }
  },
  "cells": [
    {
      "metadata": {
        "id": "7AXWrZ8BmrLA",
        "colab_type": "text"
      },
      "cell_type": "markdown",
      "source": [
        "นายชานนท์ ตรีเมต 59102010565"
      ]
    },
    {
      "metadata": {
        "id": "JxNMbzKGlLzR",
        "colab_type": "code",
        "colab": {}
      },
      "cell_type": "code",
      "source": [
        "# Import modules\n",
        "import traceback\n",
        "import math\n",
        "import pandas as pd\n",
        "import numpy as np\n",
        "import scipy\n",
        "import scipy.linalg as LA\n",
        "import matplotlib.pyplot as plt"
      ],
      "execution_count": 0,
      "outputs": []
    },
    {
      "metadata": {
        "id": "Fz0teMo8lLzY",
        "colab_type": "code",
        "colab": {}
      },
      "cell_type": "code",
      "source": [
        "xi = []\n",
        "ei = []\n",
        "ratio = []"
      ],
      "execution_count": 0,
      "outputs": []
    },
    {
      "metadata": {
        "id": "lHqez2GDlLzd",
        "colab_type": "code",
        "colab": {}
      },
      "cell_type": "code",
      "source": [
        "def newton_method( f, df, x0, k = 500, tol = 1e-6) :\n",
        "    \"\"\"\n",
        "    Use Newton's method to find the root of the function\n",
        "    \n",
        "    Args:\n",
        "        f (function prototype) : function handle\n",
        "        df (function prototype) : derivative function handle\n",
        "        x0 (real number) : starting guess \n",
        "        k (integer) : number of iteration steps (default : 500)\n",
        "        tol (real number) : tolerance (default : 1e-6)\n",
        "        \n",
        "    Return:\n",
        "        Approximate solution xc\n",
        "        \n",
        "    Raises:\n",
        "        ValueError :\n",
        "            - f or df is None\n",
        "            - k is smaller than 0\n",
        "    \"\"\"\n",
        "    try:\n",
        "        if f is None or df is None :\n",
        "            raise ValueError('Function handle f or df is Null')\n",
        "        \n",
        "        if k <= 0 :\n",
        "            raise ValueError('Iteration k must be larger than 0')\n",
        "        \n",
        "        xc = x0\n",
        "        i = 0\n",
        "        for _ in range(k) :\n",
        "            xt = xc - f(xc) / df(xc)\n",
        "            if i == 0:\n",
        "                    #do nothing\n",
        "                    xi.append(x0)\n",
        "                    ec = abs(x0 - 3)\n",
        "                    ei.append(ec)\n",
        "                    ratio.append(np.nan)\n",
        "            if tol > 0 and abs(xt - xc) / abs(xc) < tol :\n",
        "                return xt\n",
        "            else :\n",
        "                xc = xt\n",
        "                xi.append(xc)\n",
        "                ec = abs(xc - 3)\n",
        "                ei.append(ec)\n",
        "                if i != 0:\n",
        "                    previous = ei[i - 1]\n",
        "                    ratio.append(ec / math.pow(previous, 2))\n",
        "                i += 1\n",
        "        return xc\n",
        "    except ValueError as e :\n",
        "        print('ValueError Exception : ', e)\n",
        "        traceback.print_exception()"
      ],
      "execution_count": 0,
      "outputs": []
    },
    {
      "metadata": {
        "id": "pi2shPrXlLzh",
        "colab_type": "code",
        "colab": {}
      },
      "cell_type": "code",
      "source": [
        "f = lambda x : (x - 2) * math.pow(x - 3, 3)\n",
        "df = lambda x : math.pow(x - 3, 3) + (3 * math.pow(x - 3, 2) * (x - 2))\n",
        "xc = newton_method(f, df, 3.5, 25, 1e-8)"
      ],
      "execution_count": 0,
      "outputs": []
    },
    {
      "metadata": {
        "id": "d_p_IB63lLzk",
        "colab_type": "code",
        "outputId": "ac2889c1-89c3-4e01-b01c-7ab88590ce28",
        "colab": {
          "base_uri": "https://localhost:8080/",
          "height": 855
        }
      },
      "cell_type": "code",
      "source": [
        "data = [xi, ei, ratio]\n",
        "pd.options.display.float_format = '{:.8f}'.format\n",
        "df = pd.DataFrame(data)\n",
        "df_t = df.transpose()\n",
        "df_t.columns = ['Xi','Ei','Ratio']\n",
        "df_t"
      ],
      "execution_count": 5,
      "outputs": [
        {
          "output_type": "execute_result",
          "data": {
            "text/html": [
              "<div>\n",
              "<style scoped>\n",
              "    .dataframe tbody tr th:only-of-type {\n",
              "        vertical-align: middle;\n",
              "    }\n",
              "\n",
              "    .dataframe tbody tr th {\n",
              "        vertical-align: top;\n",
              "    }\n",
              "\n",
              "    .dataframe thead th {\n",
              "        text-align: right;\n",
              "    }\n",
              "</style>\n",
              "<table border=\"1\" class=\"dataframe\">\n",
              "  <thead>\n",
              "    <tr style=\"text-align: right;\">\n",
              "      <th></th>\n",
              "      <th>Xi</th>\n",
              "      <th>Ei</th>\n",
              "      <th>Ratio</th>\n",
              "    </tr>\n",
              "  </thead>\n",
              "  <tbody>\n",
              "    <tr>\n",
              "      <th>0</th>\n",
              "      <td>3.50000000</td>\n",
              "      <td>0.50000000</td>\n",
              "      <td>nan</td>\n",
              "    </tr>\n",
              "    <tr>\n",
              "      <th>1</th>\n",
              "      <td>3.35000000</td>\n",
              "      <td>0.35000000</td>\n",
              "      <td>0.97045455</td>\n",
              "    </tr>\n",
              "    <tr>\n",
              "      <th>2</th>\n",
              "      <td>3.24261364</td>\n",
              "      <td>0.24261364</td>\n",
              "      <td>1.36068604</td>\n",
              "    </tr>\n",
              "    <tr>\n",
              "      <th>3</th>\n",
              "      <td>3.16668404</td>\n",
              "      <td>0.16668404</td>\n",
              "      <td>1.93078094</td>\n",
              "    </tr>\n",
              "    <tr>\n",
              "      <th>4</th>\n",
              "      <td>3.11364842</td>\n",
              "      <td>0.11364842</td>\n",
              "      <td>2.77184964</td>\n",
              "    </tr>\n",
              "    <tr>\n",
              "      <th>5</th>\n",
              "      <td>3.07701188</td>\n",
              "      <td>0.07701188</td>\n",
              "      <td>4.02129223</td>\n",
              "    </tr>\n",
              "    <tr>\n",
              "      <th>6</th>\n",
              "      <td>3.05193887</td>\n",
              "      <td>0.05193887</td>\n",
              "      <td>5.88555772</td>\n",
              "    </tr>\n",
              "    <tr>\n",
              "      <th>7</th>\n",
              "      <td>3.03490624</td>\n",
              "      <td>0.03490624</td>\n",
              "      <td>8.67429879</td>\n",
              "    </tr>\n",
              "    <tr>\n",
              "      <th>8</th>\n",
              "      <td>3.02340019</td>\n",
              "      <td>0.02340019</td>\n",
              "      <td>12.85172487</td>\n",
              "    </tr>\n",
              "    <tr>\n",
              "      <th>9</th>\n",
              "      <td>3.01565912</td>\n",
              "      <td>0.01565912</td>\n",
              "      <td>19.11377313</td>\n",
              "    </tr>\n",
              "    <tr>\n",
              "      <th>10</th>\n",
              "      <td>3.01046610</td>\n",
              "      <td>0.01046610</td>\n",
              "      <td>28.50396959</td>\n",
              "    </tr>\n",
              "    <tr>\n",
              "      <th>11</th>\n",
              "      <td>3.00698941</td>\n",
              "      <td>0.00698941</td>\n",
              "      <td>42.58727578</td>\n",
              "    </tr>\n",
              "    <tr>\n",
              "      <th>12</th>\n",
              "      <td>3.00466498</td>\n",
              "      <td>0.00466498</td>\n",
              "      <td>63.71087611</td>\n",
              "    </tr>\n",
              "    <tr>\n",
              "      <th>13</th>\n",
              "      <td>3.00311239</td>\n",
              "      <td>0.00311239</td>\n",
              "      <td>95.39535531</td>\n",
              "    </tr>\n",
              "    <tr>\n",
              "      <th>14</th>\n",
              "      <td>3.00207600</td>\n",
              "      <td>0.00207600</td>\n",
              "      <td>142.92145292</td>\n",
              "    </tr>\n",
              "    <tr>\n",
              "      <th>15</th>\n",
              "      <td>3.00138448</td>\n",
              "      <td>0.00138448</td>\n",
              "      <td>214.21018207</td>\n",
              "    </tr>\n",
              "    <tr>\n",
              "      <th>16</th>\n",
              "      <td>3.00092320</td>\n",
              "      <td>0.00092320</td>\n",
              "      <td>321.14299621</td>\n",
              "    </tr>\n",
              "    <tr>\n",
              "      <th>17</th>\n",
              "      <td>3.00061556</td>\n",
              "      <td>0.00061556</td>\n",
              "      <td>481.54203040</td>\n",
              "    </tr>\n",
              "    <tr>\n",
              "      <th>18</th>\n",
              "      <td>3.00041042</td>\n",
              "      <td>0.00041042</td>\n",
              "      <td>722.14045671</td>\n",
              "    </tr>\n",
              "    <tr>\n",
              "      <th>19</th>\n",
              "      <td>3.00027363</td>\n",
              "      <td>0.00027363</td>\n",
              "      <td>1083.03801273</td>\n",
              "    </tr>\n",
              "    <tr>\n",
              "      <th>20</th>\n",
              "      <td>3.00018243</td>\n",
              "      <td>0.00018243</td>\n",
              "      <td>1624.38429109</td>\n",
              "    </tr>\n",
              "    <tr>\n",
              "      <th>21</th>\n",
              "      <td>3.00012162</td>\n",
              "      <td>0.00012162</td>\n",
              "      <td>2436.40367148</td>\n",
              "    </tr>\n",
              "    <tr>\n",
              "      <th>22</th>\n",
              "      <td>3.00008108</td>\n",
              "      <td>0.00008108</td>\n",
              "      <td>3654.43271729</td>\n",
              "    </tr>\n",
              "    <tr>\n",
              "      <th>23</th>\n",
              "      <td>3.00005406</td>\n",
              "      <td>0.00005406</td>\n",
              "      <td>5481.47626953</td>\n",
              "    </tr>\n",
              "    <tr>\n",
              "      <th>24</th>\n",
              "      <td>3.00003604</td>\n",
              "      <td>0.00003604</td>\n",
              "      <td>8222.04158676</td>\n",
              "    </tr>\n",
              "    <tr>\n",
              "      <th>25</th>\n",
              "      <td>3.00002403</td>\n",
              "      <td>0.00002403</td>\n",
              "      <td>nan</td>\n",
              "    </tr>\n",
              "  </tbody>\n",
              "</table>\n",
              "</div>"
            ],
            "text/plain": [
              "           Xi         Ei         Ratio\n",
              "0  3.50000000 0.50000000           nan\n",
              "1  3.35000000 0.35000000    0.97045455\n",
              "2  3.24261364 0.24261364    1.36068604\n",
              "3  3.16668404 0.16668404    1.93078094\n",
              "4  3.11364842 0.11364842    2.77184964\n",
              "5  3.07701188 0.07701188    4.02129223\n",
              "6  3.05193887 0.05193887    5.88555772\n",
              "7  3.03490624 0.03490624    8.67429879\n",
              "8  3.02340019 0.02340019   12.85172487\n",
              "9  3.01565912 0.01565912   19.11377313\n",
              "10 3.01046610 0.01046610   28.50396959\n",
              "11 3.00698941 0.00698941   42.58727578\n",
              "12 3.00466498 0.00466498   63.71087611\n",
              "13 3.00311239 0.00311239   95.39535531\n",
              "14 3.00207600 0.00207600  142.92145292\n",
              "15 3.00138448 0.00138448  214.21018207\n",
              "16 3.00092320 0.00092320  321.14299621\n",
              "17 3.00061556 0.00061556  481.54203040\n",
              "18 3.00041042 0.00041042  722.14045671\n",
              "19 3.00027363 0.00027363 1083.03801273\n",
              "20 3.00018243 0.00018243 1624.38429109\n",
              "21 3.00012162 0.00012162 2436.40367148\n",
              "22 3.00008108 0.00008108 3654.43271729\n",
              "23 3.00005406 0.00005406 5481.47626953\n",
              "24 3.00003604 0.00003604 8222.04158676\n",
              "25 3.00002403 0.00002403           nan"
            ]
          },
          "metadata": {
            "tags": []
          },
          "execution_count": 5
        }
      ]
    },
    {
      "metadata": {
        "id": "PprR5F4qlLz4",
        "colab_type": "text"
      },
      "cell_type": "markdown",
      "source": [
        "**Q1 จงใช้ python ทดสอบว่า Newton method converge แบบใดที่จุด r=2 หรือ e=3 ของสมการ f1(x), f2(x) และ f3(x) **"
      ]
    },
    {
      "metadata": {
        "id": "kF4MekvLo5Ep",
        "colab_type": "text"
      },
      "cell_type": "markdown",
      "source": [
        "เป็นแบบ Linear convergence"
      ]
    },
    {
      "metadata": {
        "id": "NTf_G-e-pgTN",
        "colab_type": "text"
      },
      "cell_type": "markdown",
      "source": [
        "**Q2 ผลลัพธ์ที่ได้จากข้อ Q1 เป็นไปตามที่เราคำนวณตาม slide หน้า 19 หรือไม่ เพราะเหตุใด**"
      ]
    },
    {
      "metadata": {
        "id": "mjUy0bM9w25C",
        "colab_type": "code",
        "outputId": "e1d6194a-0fc8-43d3-9260-3937491c45f3",
        "colab": {
          "base_uri": "https://localhost:8080/",
          "height": 34
        }
      },
      "cell_type": "code",
      "source": [
        "x = 3\n",
        "diff = lambda x : math.pow(x - 3, 3) + (3 * math.pow(x - 3, 2) * (x - 2))\n",
        "print(diff(x))"
      ],
      "execution_count": 6,
      "outputs": [
        {
          "output_type": "stream",
          "text": [
            "0.0\n"
          ],
          "name": "stdout"
        }
      ]
    },
    {
      "metadata": {
        "id": "O0lNxd6Fpoht",
        "colab_type": "text"
      },
      "cell_type": "markdown",
      "source": [
        "ตรงตาม slide เพราะเมื่อแทน x = 3 ลงใน f'(x) แล้ว จะได้ผลลัพธ์เท่ากับ 0 แสดงว่าเป็น multiple root"
      ]
    },
    {
      "metadata": {
        "id": "74c2uFaTpltP",
        "colab_type": "text"
      },
      "cell_type": "markdown",
      "source": [
        "**Q3 จากข้อ Q1, x0 ที่คุณเลือกมีค่าเท่ากับ? เพราะเหตุใดถึงเลือก x0 เท่านี้?**"
      ]
    },
    {
      "metadata": {
        "id": "e3f6GwGwppDH",
        "colab_type": "text"
      },
      "cell_type": "markdown",
      "source": [
        "x0 = 3.5 เพราะต้องการจะตรวจสอบว่าถ้าค่า x0 ใกล้ ๆ root Newton-method จะทำการค้นหาแบบใด"
      ]
    }
  ]
}